{
 "cells": [
  {
   "cell_type": "code",
   "execution_count": 1,
   "metadata": {},
   "outputs": [
    {
     "name": "stdout",
     "output_type": "stream",
     "text": [
      "    age     sex     bmi  children smoker     region      charges\n",
      "0    19  female  27.900         0    yes  southwest  16884.92400\n",
      "1    18    male  33.770         1     no  southeast   1725.55230\n",
      "2    28    male  33.000         3     no  southeast   4449.46200\n",
      "3    33    male  22.705         0     no  northwest  21984.47061\n",
      "4    32    male  28.880         0     no  northwest   3866.85520\n",
      "5    31  female  25.740         0     no  southeast   3756.62160\n",
      "6    46  female  33.440         1     no  southeast   8240.58960\n",
      "7    37  female  27.740         3     no  northwest   7281.50560\n",
      "8    37    male  29.830         2     no  northeast   6406.41070\n",
      "9    60  female  25.840         0     no  northwest  28923.13692\n",
      "10   25    male  26.220         0     no  northeast   2721.32080\n",
      "11   62  female  26.290         0    yes  southeast  27808.72510\n",
      "12   23    male  34.400         0     no  southwest   1826.84300\n",
      "13   56  female  39.820         0     no  southeast  11090.71780\n",
      "14   27    male     NaN         0    yes  southeast  39611.75770\n",
      "bmi    5\n",
      "dtype: int64\n",
      "Series([], dtype: int64)\n",
      "Series([], dtype: int64)\n",
      "Series([], dtype: int64)\n",
      "    age     sex        bmi  children smoker     region      charges\n",
      "0    19  female  27.900000         0    yes  southwest  16884.92400\n",
      "1    18    male  33.770000         1     no  southeast   1725.55230\n",
      "2    28    male  33.000000         3     no  southeast   4449.46200\n",
      "3    33    male  22.705000         0     no  northwest  21984.47061\n",
      "4    32    male  28.880000         0     no  northwest   3866.85520\n",
      "5    31  female  25.740000         0     no  southeast   3756.62160\n",
      "6    46  female  33.440000         1     no  southeast   8240.58960\n",
      "7    37  female  27.740000         3     no  northwest   7281.50560\n",
      "8    37    male  29.830000         2     no  northeast   6406.41070\n",
      "9    60  female  25.840000         0     no  northwest  28923.13692\n",
      "10   25    male  26.220000         0     no  northeast   2721.32080\n",
      "11   62  female  26.290000         0    yes  southeast  27808.72510\n",
      "12   23    male  34.400000         0     no  southwest   1826.84300\n",
      "13   56  female  39.820000         0     no  southeast  11090.71780\n",
      "14   27    male  30.658545         0    yes  southeast  39611.75770\n",
      "Series([], dtype: int64)\n"
     ]
    }
   ],
   "source": [
    "import pandas as pd\n",
    "import numpy as np\n",
    "from sklearn.model_selection import train_test_split\n",
    "from sklearn.impute import SimpleImputer\n",
    "import matplotlib.pyplot as plt \n",
    "\n",
    "from sklearn.preprocessing import OneHotEncoder\n",
    "from sklearn.preprocessing import LabelEncoder\n",
    "\n",
    "\n",
    "#import data\n",
    "data = pd.read_csv(\"Datasets/insurance.csv\")\n",
    "\n",
    "#see the first 15 lines of data\n",
    "print(data.head(15))\n",
    "\n",
    "############################################01_03_HandlingMissingValues###################################################\n",
    "\n",
    "#check how many values are missing (NaN) before we apply the methods below \n",
    "count_nan = data.isnull().sum() # the number of missing values for every column\n",
    "print(count_nan[count_nan > 0])\n",
    "\n",
    "#fill in the missing values (we will look at 4 options for this course - there are so many other methods out there.)\n",
    "\n",
    "#option0 for dropping the entire column\n",
    "data = pd.read_csv(\"Datasets/insurance.csv\") # reloading fresh dataset for option 0\n",
    "data.drop('bmi', axis = 1, inplace = True)\n",
    "#check how many values are missing (NaN) - after we dropped 'bmi'\n",
    "count_nan = data.isnull().sum() # the number of missing values for every column\n",
    "print(count_nan[count_nan > 0])\n",
    "\n",
    "#option1 for dropping NAN\n",
    "data = pd.read_csv(\"Datasets/insurance.csv\") # reloading fresh dataset for option 1\n",
    "data.dropna(inplace=True)\n",
    "data.reset_index(drop=True, inplace=True)\n",
    "#check how many values are missing (NaN) - after we filled in the NaN\n",
    "count_nan = data.isnull().sum() # the number of missing values for every column\n",
    "print(count_nan[count_nan > 0])\n",
    "\n",
    "#option2 for filling NaN # reloading fresh dataset for option 2\n",
    "data = pd.read_csv(\"Datasets/insurance.csv\")\n",
    "imputer = SimpleImputer(strategy='mean')\n",
    "imputer.fit(data['bmi'].values.reshape(-1, 1))\n",
    "data['bmi'] = imputer.transform(data['bmi'].values.reshape(-1, 1))\n",
    "#check how many values are missing (NaN) - after we filled in the NaN\n",
    "count_nan = data.isnull().sum() # the number of missing values for every column\n",
    "print(count_nan[count_nan > 0])\n",
    "\n",
    "#option3 for filling NaN # reloading fresh dataset for option 3\n",
    "data = pd.read_csv(\"Datasets/insurance.csv\")\n",
    "data['bmi'].fillna(data['bmi'].mean(), inplace = True)\n",
    "print(data.head(15))\n",
    "#check how many values are missing (NaN) - after we filled in the NaN\n",
    "count_nan = data.isnull().sum() # the number of missing values for every column\n",
    "print(count_nan[count_nan > 0])"
   ]
  },
  {
   "cell_type": "code",
   "execution_count": 6,
   "metadata": {},
   "outputs": [],
   "source": [
    "# Assumption that training dataset and real dataset\n",
    "# has same number of dataset"
   ]
  },
  {
   "cell_type": "code",
   "execution_count": 9,
   "metadata": {},
   "outputs": [
    {
     "name": "stdout",
     "output_type": "stream",
     "text": [
      "Pandas factorize function for label encoding with series\n",
      "0    southwest\n",
      "1    southeast\n",
      "2    southeast\n",
      "3    northwest\n",
      "4    northwest\n",
      "5    southeast\n",
      "6    southeast\n",
      "7    northwest\n",
      "8    northeast\n",
      "9    northwest\n",
      "Name: region, dtype: object\n",
      "Index(['southwest', 'southeast', 'northwest', 'northeast'], dtype='object')\n",
      "[0 1 1 2 2 1 1 2 3 2]\n",
      "{'southwest': 0, 'southeast': 1, 'northwest': 1, 'northeast': 2}\n"
     ]
    }
   ],
   "source": [
    "# factorize()\n",
    "region = data[\"region\"] # series\n",
    "region_encoded, region_categories = pd.factorize(region)\n",
    "factor_region_mapping = dict(zip(region_categories, region_encoded))\n",
    "\n",
    "print(\"Pandas factorize function for label encoding with series\")  \n",
    "print(region[:10]) #original version \n",
    "print(region_categories) #list of categories\n",
    "print(region_encoded[:10]) #encoded numbers for categories \n",
    "print(factor_region_mapping) # print factor mapping"
   ]
  },
  {
   "cell_type": "code",
   "execution_count": 14,
   "metadata": {},
   "outputs": [
    {
     "name": "stdout",
     "output_type": "stream",
     "text": [
      "Pandas get_dummies function for one hot encoding with series\n",
      "0    southwest\n",
      "1    southeast\n",
      "2    southeast\n",
      "3    northwest\n",
      "4    northwest\n",
      "5    southeast\n",
      "6    southeast\n",
      "7    northwest\n",
      "8    northeast\n",
      "9    northwest\n",
      "Name: region, dtype: object\n",
      "   northeast  northwest  southeast  southwest\n",
      "0          0          0          0          1\n",
      "1          0          0          1          0\n",
      "2          0          0          1          0\n",
      "3          0          1          0          0\n",
      "4          0          1          0          0\n",
      "5          0          0          1          0\n",
      "6          0          0          1          0\n",
      "7          0          1          0          0\n",
      "8          1          0          0          0\n",
      "9          0          1          0          0\n"
     ]
    }
   ],
   "source": [
    "region = data[\"region\"]\n",
    "region_encoded = pd.get_dummies(region)\n",
    "\n",
    "print(\"Pandas get_dummies function for one hot encoding with series\")  \n",
    "\n",
    "print(region[:10]) #original version \n",
    "print(region_encoded[:10]) #encoded numbers for categories "
   ]
  },
  {
   "cell_type": "code",
   "execution_count": 7,
   "metadata": {},
   "outputs": [],
   "source": [
    "# iloc slicing create dataframe format\n",
    "sex = data.iloc[:,1:2].values\n",
    "smoker = data.iloc[:,4:5].values"
   ]
  },
  {
   "cell_type": "code",
   "execution_count": 3,
   "metadata": {},
   "outputs": [
    {
     "name": "stdout",
     "output_type": "stream",
     "text": [
      "Sklearn label encoder results for sex:\n",
      "{'female': 0, 'male': 1}\n",
      "  sex\n",
      "0   0\n",
      "1   1\n",
      "2   1\n",
      "3   1\n",
      "4   1\n",
      "5   0\n",
      "6   0\n",
      "7   0\n",
      "8   1\n",
      "9   0\n"
     ]
    }
   ],
   "source": [
    "# LabelEncoder\n",
    "\n",
    "le = LabelEncoder()\n",
    "sex[:,0] = le.fit_transform(sex[:,0])\n",
    "sex = pd.DataFrame(sex)\n",
    "sex.columns = ['sex']\n",
    "# zip turn two columns to [(x,y), ...]\n",
    "# le.classes_ = array(['female', 'male'], dtype=object)\n",
    "# le.transform(le.classes_) = array([0, 1])\n",
    "# can use preprocessing.LabelEncoder() for weekdays\n",
    "le_sex_mapping = dict(zip(le.classes_, le.transform(le.classes_)))\n",
    "\n",
    "print(\"Sklearn label encoder results for sex:\")\n",
    "print(le_sex_mapping)\n",
    "print(sex[:10])"
   ]
  },
  {
   "cell_type": "code",
   "execution_count": 4,
   "metadata": {},
   "outputs": [
    {
     "name": "stdout",
     "output_type": "stream",
     "text": [
      "Sklearn label encoder results for smoker:\n",
      "{'female': 0, 'male': 1}\n",
      "  smoker\n",
      "0      1\n",
      "1      0\n",
      "2      0\n",
      "3      0\n",
      "4      0\n",
      "5      0\n",
      "6      0\n",
      "7      0\n",
      "8      0\n",
      "9      0\n"
     ]
    }
   ],
   "source": [
    "le = LabelEncoder()\n",
    "smoker[:,0] = le.fit_transform(smoker[:,0])\n",
    "smoker = pd.DataFrame(smoker)\n",
    "smoker.columns = ['smoker']\n",
    "le_smoker_mapping = dict(zip(le.classes_,le.transform(le.classes_)))\n",
    "\n",
    "print(\"Sklearn label encoder results for smoker:\")\n",
    "print(le_sex_mapping)\n",
    "print(smoker[:10])"
   ]
  },
  {
   "cell_type": "code",
   "execution_count": 5,
   "metadata": {},
   "outputs": [
    {
     "name": "stdout",
     "output_type": "stream",
     "text": [
      "Sklearn one hot encoder results for region:\n",
      "   northeast  northwest  southeast  southwest\n",
      "0        0.0        0.0        0.0        1.0\n",
      "1        0.0        0.0        1.0        0.0\n",
      "2        0.0        0.0        1.0        0.0\n",
      "3        0.0        1.0        0.0        0.0\n",
      "4        0.0        1.0        0.0        0.0\n",
      "5        0.0        0.0        1.0        0.0\n",
      "6        0.0        0.0        1.0        0.0\n",
      "7        0.0        1.0        0.0        0.0\n",
      "8        1.0        0.0        0.0        0.0\n",
      "9        0.0        1.0        0.0        0.0\n"
     ]
    }
   ],
   "source": [
    "region = data.iloc[:,5:6].values\n",
    "ohe = OneHotEncoder()\n",
    "region = ohe.fit_transform(region).toarray()\n",
    "region = pd.DataFrame(region)\n",
    "col = list(ohe.get_feature_names())\n",
    "col = list(map(lambda x:x[3:],col))\n",
    "region.columns = col\n",
    "print(\"Sklearn one hot encoder results for region:\")  \n",
    "print(region[:10])"
   ]
  },
  {
   "cell_type": "code",
   "execution_count": 77,
   "metadata": {},
   "outputs": [
    {
     "data": {
      "text/plain": [
       "['northeast', 'northwest', 'southeast', 'southwest']"
      ]
     },
     "execution_count": 77,
     "metadata": {},
     "output_type": "execute_result"
    }
   ],
   "source": []
  }
 ],
 "metadata": {
  "interpreter": {
   "hash": "8fac594bfae6525c0c41b4041d2d72effa188cc8ead05f81b1fab2bb098927fb"
  },
  "kernelspec": {
   "display_name": "Python 3.7.6 ('base')",
   "language": "python",
   "name": "python3"
  },
  "language_info": {
   "codemirror_mode": {
    "name": "ipython",
    "version": 3
   },
   "file_extension": ".py",
   "mimetype": "text/x-python",
   "name": "python",
   "nbconvert_exporter": "python",
   "pygments_lexer": "ipython3",
   "version": "3.7.6"
  },
  "orig_nbformat": 4
 },
 "nbformat": 4,
 "nbformat_minor": 2
}
