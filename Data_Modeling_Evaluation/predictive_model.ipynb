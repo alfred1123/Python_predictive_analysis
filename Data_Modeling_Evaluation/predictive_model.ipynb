{
 "cells": [
  {
   "cell_type": "code",
   "execution_count": 1,
   "metadata": {},
   "outputs": [
    {
     "data": {
      "text/plain": [
       "'\\nCover:\\n1. Linear Regresssion\\n2. Polynomial regression\\n3. Support vector regression (SVM)\\n4. Decision tree\\n5. Random forest regression\\n'"
      ]
     },
     "execution_count": 1,
     "metadata": {},
     "output_type": "execute_result"
    }
   ],
   "source": [
    "# Modeling\n",
    "\n",
    "'''\n",
    "Machine Learning\n",
    "1. Supervised (with Label Data) ==> Regression and Classification\n",
    "2. Unsupervised (without Label Data)\n",
    "3. Reinforement Learning (trial and error using feedback)\n",
    "'''\n",
    "\n",
    "#Label is tag representing an entity for predictive analysis\n",
    "# without label means no information for predictive analysis\n",
    "\n",
    "# Supervised\n",
    "'''\n",
    "Regresssion\n",
    "==> Predict a numerical variable\n",
    "Classification\n",
    "==> Predict a categorical variable\n",
    "'''\n",
    "\n",
    "\n",
    "# Unsupervised\n",
    "'''\n",
    "Clustering\n",
    "==> Discover the inherent groupings in the Data\n",
    "Association\n",
    "==> Discover rules that describe portions of the data\n",
    "'''\n",
    "\n",
    "'''\n",
    "Cover:\n",
    "1. Linear Regresssion\n",
    "2. Polynomial regression\n",
    "3. Support vector regression (SVM)\n",
    "4. Decision tree\n",
    "5. Random forest regression\n",
    "'''\n"
   ]
  }
 ],
 "metadata": {
  "interpreter": {
   "hash": "8fac594bfae6525c0c41b4041d2d72effa188cc8ead05f81b1fab2bb098927fb"
  },
  "kernelspec": {
   "display_name": "Python 3.7.6 ('base')",
   "language": "python",
   "name": "python3"
  },
  "language_info": {
   "codemirror_mode": {
    "name": "ipython",
    "version": 3
   },
   "file_extension": ".py",
   "mimetype": "text/x-python",
   "name": "python",
   "nbconvert_exporter": "python",
   "pygments_lexer": "ipython3",
   "version": "3.7.6"
  },
  "orig_nbformat": 4
 },
 "nbformat": 4,
 "nbformat_minor": 2
}
